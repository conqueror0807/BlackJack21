{
 "cells": [
  {
   "cell_type": "code",
   "execution_count": null,
   "id": "58011930",
   "metadata": {},
   "outputs": [
    {
     "name": "stdout",
     "output_type": "stream",
     "text": [
      "Do you want to play a game of Blackjack? Type 'yes' or 'no': yes\n",
      "Your cards: [5, 5], current score: 10\n",
      "Computer's first card: 10\n",
      "Type 'y' to get another card, type 'n' to pass: y\n",
      "Your cards: [5, 5, 10], current score: 20\n",
      "Computer's first card: 10\n",
      "Type 'y' to get another card, type 'n' to pass: n\n",
      "Your final hand: [5, 5, 10], final score: 20\n",
      "Computer's final hand: [10, 6, 3], final score: 19\n",
      "You win 😃\n"
     ]
    }
   ],
   "source": [
    "#BALCKJACK21\n",
    "import random\n",
    "\n",
    "def deal_card():\n",
    "  \"\"\"Returns a random card from the deck.\"\"\"\n",
    "  cards = [11, 2, 3, 4, 5, 6, 7, 8, 9, 10, 10, 10, 10]\n",
    "  card = random.choice(cards)\n",
    "  return card\n",
    "\n",
    "def calculate_score(cards):\n",
    "  if sum(cards) == 21 and len(cards) == 2:\n",
    "    return 0\n",
    "  if 11 in cards and sum(cards) > 21:\n",
    "    cards.remove(11)\n",
    "    cards.append(1)\n",
    "  return sum(cards)\n",
    "\n",
    "def compare(user_score, computer_score):\n",
    "  if user_score > 21 and computer_score > 21:\n",
    "    return \"You went over. You lose 😤\"\n",
    "  if user_score == computer_score:\n",
    "    return \"Draw 🙃\"\n",
    "  elif computer_score == 0:\n",
    "    return \"Lose, opponent has Blackjack 😱\"\n",
    "  elif user_score == 0:\n",
    "    return \"Win with a Blackjack 😎\"\n",
    "  elif user_score > 21:\n",
    "    return \"You went over. You lose 😭\"\n",
    "  elif computer_score > 21:\n",
    "    return \"Opponent went over. You win 😁\"\n",
    "  elif user_score > computer_score:\n",
    "    return \"You win 😃\"\n",
    "  else:\n",
    "    return \"You lose 😤\"\n",
    "\n",
    "def play_game():\n",
    "  user_cards = []\n",
    "  computer_cards = []\n",
    "  is_game_over = False\n",
    "\n",
    "  for _ in range(2):\n",
    "    user_cards.append(deal_card())\n",
    "    computer_cards.append(deal_card())\n",
    "  while not is_game_over:\n",
    "    user_score = calculate_score(user_cards)\n",
    "    computer_score = calculate_score(computer_cards)\n",
    "    print(f\"Your cards: {user_cards}, current score: {user_score}\")\n",
    "    print(f\"Computer's first card: {computer_cards[0]}\")\n",
    "\n",
    "    if user_score == 0 or computer_score == 0 or user_score > 21:\n",
    "      is_game_over = True\n",
    "    else:\n",
    "      user_should_deal = input(\"Type 'y' to get another card, type 'n' to pass: \")\n",
    "      if user_should_deal == \"y\":\n",
    "        user_cards.append(deal_card())\n",
    "      else:\n",
    "        is_game_over = True\n",
    "  while computer_score != 0 and computer_score < 17:\n",
    "    computer_cards.append(deal_card())\n",
    "    computer_score = calculate_score(computer_cards)\n",
    "\n",
    "  print(f\"Your final hand: {user_cards}, final score: {user_score}\")\n",
    "  print(f\"Computer's final hand: {computer_cards}, final score: {computer_score}\")\n",
    "  print(compare(user_score, computer_score))\n",
    "while input(\"Do you want to play a game of Blackjack? Type 'yes' or 'no': \") == \"yes\":\n",
    "  play_game()"
   ]
  },
  {
   "cell_type": "code",
   "execution_count": null,
   "id": "953b05c5",
   "metadata": {},
   "outputs": [],
   "source": []
  }
 ],
 "metadata": {
  "kernelspec": {
   "display_name": "Python 3",
   "language": "python",
   "name": "python3"
  },
  "language_info": {
   "codemirror_mode": {
    "name": "ipython",
    "version": 3
   },
   "file_extension": ".py",
   "mimetype": "text/x-python",
   "name": "python",
   "nbconvert_exporter": "python",
   "pygments_lexer": "ipython3",
   "version": "3.8.8"
  }
 },
 "nbformat": 4,
 "nbformat_minor": 5
}
